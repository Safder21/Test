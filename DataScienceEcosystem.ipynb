{
 "cells": [
  {
   "cell_type": "markdown",
   "id": "3b4aba43-3ec9-4577-9c04-dc0738060221",
   "metadata": {},
   "source": [
    "<h1> Data Science Tools and Ecosystem </h1>"
   ]
  },
  {
   "cell_type": "markdown",
   "id": "99508ef6-7053-4f04-9317-4be822776c4d",
   "metadata": {},
   "source": [
    "In this notebook, Data Science Tools and Ecosystem are summarized."
   ]
  },
  {
   "cell_type": "markdown",
   "id": "69be1518-83de-4978-8206-67d71ae17baf",
   "metadata": {},
   "source": [
    "Some of the popular languages that Data Scientists use are:\n",
    "<ol>\n",
    "    <li>Python</li>\n",
    "    <li>R</li>\n",
    "    <li>SQL</li>\n",
    "</ol>"
   ]
  },
  {
   "cell_type": "markdown",
   "id": "d7cc6fc2-cf94-4e2a-bb7e-5763e8da9855",
   "metadata": {},
   "source": [
    "Some of the commonly used libraries used by Data Scientists include:\n",
    "<ol>\n",
    "    <li>Numpy</li>\n",
    "    <li>pandas library</li>\n",
    "    <li>many more</li>\n",
    "</ol>"
   ]
  },
  {
   "cell_type": "markdown",
   "id": "304d2975-c2d1-4943-974a-7e18c304ea73",
   "metadata": {},
   "source": [
    "Data Science Tools:\n",
    "<table style=\"width 20%\">\n",
    "<tr>\n",
    "    <th>Data Science Tools</th>\n",
    "</tr>\n",
    "<tr>\n",
    "    <td>Jupter NoteBook </td>\n",
    "    <td>jupter light</td>\n",
    "    <td>Anaconda</td>\n",
    "</tr>\n",
    "</table>"
   ]
  },
  {
   "cell_type": "markdown",
   "id": "22407af2-a2fd-4af0-a84d-7ae68b771391",
   "metadata": {},
   "source": [
    "<h3>Below are a few examples of evaluating arithmetic expressions in Python</h3>\n"
   ]
  },
  {
   "cell_type": "code",
   "execution_count": 5,
   "id": "96ebae2c-311c-49f6-b561-14433af390dc",
   "metadata": {},
   "outputs": [
    {
     "data": {
      "text/plain": [
       "17"
      ]
     },
     "execution_count": 5,
     "metadata": {},
     "output_type": "execute_result"
    }
   ],
   "source": [
    "(3*4)+5"
   ]
  },
  {
   "cell_type": "code",
   "execution_count": 6,
   "id": "7c4bf964-2c10-44b4-bd3b-ae774e4d7374",
   "metadata": {},
   "outputs": [
    {
     "name": "stdout",
     "output_type": "stream",
     "text": [
      "3.3333333333333335\n"
     ]
    }
   ],
   "source": [
    "#This will convert 200 minutes to hours by diving by 60\n",
    "\n",
    "hours=200/60\n",
    "print(hours)\n"
   ]
  },
  {
   "cell_type": "markdown",
   "id": "8adce41d-c98c-4592-b470-32a448b19939",
   "metadata": {},
   "source": [
    "<h1>Author</h1>\n",
    "Safder Ali"
   ]
  },
  {
   "cell_type": "code",
   "execution_count": null,
   "id": "06ec47df-9e05-43af-92f6-4c2685ad2f52",
   "metadata": {},
   "outputs": [],
   "source": []
  }
 ],
 "metadata": {
  "kernelspec": {
   "display_name": "Python 3 (ipykernel)",
   "language": "python",
   "name": "python3"
  },
  "language_info": {
   "codemirror_mode": {
    "name": "ipython",
    "version": 3
   },
   "file_extension": ".py",
   "mimetype": "text/x-python",
   "name": "python",
   "nbconvert_exporter": "python",
   "pygments_lexer": "ipython3",
   "version": "3.11.3"
  }
 },
 "nbformat": 4,
 "nbformat_minor": 5
}
